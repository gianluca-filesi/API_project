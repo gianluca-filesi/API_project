{
 "cells": [
  {
   "cell_type": "markdown",
   "metadata": {
    "cell_id": "3533a8588dbb428db5707906dc586482",
    "deepnote_cell_type": "text-cell-h1",
    "formattedRanges": []
   },
   "source": [
    "# Data science projects for business - Final Assignment"
   ]
  },
  {
   "cell_type": "markdown",
   "metadata": {
    "cell_id": "d9db692a6fca4668be8da9fa3604f172",
    "deepnote_cell_type": "markdown"
   },
   "source": [
    "* Filesi Gianluca 102299\n",
    "* O' Donovan Luke 102312"
   ]
  },
  {
   "cell_type": "code",
   "execution_count": null,
   "metadata": {
    "cell_id": "f1ca7f3244d94387989feb7bd54c618e",
    "deepnote_cell_type": "code",
    "execution_context_id": "805543aa-dc1a-4a8b-8319-d95a64e80cf0",
    "execution_millis": 1,
    "execution_start": 1740761756144,
    "source_hash": "432be2bd"
   },
   "outputs": [],
   "source": [
    "import pandas as pd\n",
    "import numpy as np\n",
    "import matplotlib.pyplot as plt\n",
    "import pickle as pkl\n",
    "import seaborn as sns\n",
    "from scipy.stats import skew, kurtosis\n",
    "from sklearn.model_selection import train_test_split, GridSearchCV\n",
    "from sklearn.preprocessing import OneHotEncoder, StandardScaler\n",
    "from sklearn.linear_model import LinearRegression, Ridge\n",
    "from sklearn.metrics import mean_squared_error, r2_score\n",
    "from sklearn.tree import DecisionTreeRegressor\n",
    "from sklearn.ensemble import RandomForestRegressor, GradientBoostingRegressor\n",
    "import pickle"
   ]
  },
  {
   "cell_type": "code",
   "execution_count": null,
   "metadata": {
    "cell_id": "bb0688c0940f46e0972bb1ae445f5761",
    "deepnote_cell_type": "code",
    "execution_context_id": "805543aa-dc1a-4a8b-8319-d95a64e80cf0",
    "execution_millis": 175,
    "execution_start": 1740760586633,
    "source_hash": "393c9993"
   },
   "outputs": [],
   "source": [
    "df_test = pd.read_csv('Notebook/Filesi_ODonovan.ipynb')\n",
    "df_train = pd.read_csv('Notebook/train.csv')"
   ]
  },
  {
   "cell_type": "code",
   "execution_count": null,
   "metadata": {
    "cell_id": "5b0e2861283547d7a24b089a00ec23a5",
    "deepnote_cell_type": "code",
    "execution_context_id": "805543aa-dc1a-4a8b-8319-d95a64e80cf0",
    "execution_millis": 1,
    "execution_start": 1740760586869,
    "source_hash": "5e2a9c26"
   },
   "outputs": [],
   "source": [
    "df_train.head()"
   ]
  },
  {
   "cell_type": "code",
   "execution_count": null,
   "metadata": {
    "cell_id": "f66a469fdb3949f2a99aadd018252f6d",
    "deepnote_cell_type": "code",
    "execution_context_id": "805543aa-dc1a-4a8b-8319-d95a64e80cf0",
    "execution_millis": 0,
    "execution_start": 1740760586917,
    "source_hash": "da2248f3"
   },
   "outputs": [],
   "source": [
    "numerical_columns = df_train.select_dtypes(include=['int64', 'float64']).columns.tolist()\n",
    "non_numerical_columns = df_train.select_dtypes(exclude=['int64', 'float64']).columns.tolist()\n",
    "\n",
    "print(\"Numerical Columns:\", numerical_columns)\n",
    "print(\"Non-Numerical Columns:\", non_numerical_columns)\n"
   ]
  },
  {
   "cell_type": "markdown",
   "metadata": {
    "cell_id": "d984aa45de0544e6986fd3228480db6b",
    "deepnote_cell_type": "text-cell-h2",
    "formattedRanges": []
   },
   "source": [
    "## Data visualization"
   ]
  },
  {
   "cell_type": "code",
   "execution_count": null,
   "metadata": {
    "cell_id": "6547bb12ebb14c7da062babbcabcbe14",
    "deepnote_cell_type": "code",
    "execution_context_id": "805543aa-dc1a-4a8b-8319-d95a64e80cf0",
    "execution_millis": 544,
    "execution_start": 1740760586964,
    "source_hash": "57f19d82"
   },
   "outputs": [],
   "source": [
    "# Visualize distributions\n",
    "df_train.hist(figsize=(12,8))\n",
    "plt.show()"
   ]
  },
  {
   "cell_type": "code",
   "execution_count": null,
   "metadata": {
    "cell_id": "228ccfe1ff9f4678ba212c27b335996a",
    "deepnote_cell_type": "code",
    "deepnote_variable_name": "",
    "execution_context_id": "805543aa-dc1a-4a8b-8319-d95a64e80cf0",
    "execution_millis": 0,
    "execution_start": 1740760587557,
    "source_hash": "4ea997da",
    "sql_integration_id": ""
   },
   "outputs": [],
   "source": [
    "numerical_cols = df_train.select_dtypes(include=['int64', 'float64']).columns.tolist()\n",
    "numerical_cols = numerical_columns[1:]"
   ]
  },
  {
   "cell_type": "code",
   "execution_count": null,
   "metadata": {
    "cell_id": "2cfa3a56a3f240628c3abd8e5b19de5a",
    "deepnote_cell_type": "code",
    "execution_context_id": "805543aa-dc1a-4a8b-8319-d95a64e80cf0",
    "execution_millis": 1496,
    "execution_start": 1740760587609,
    "source_hash": "3491b2b"
   },
   "outputs": [],
   "source": [
    "# Visualizing distributions of numerical features\n",
    "fig, axes = plt.subplots(len(numerical_cols)//3, 3, figsize=(15, 5))\n",
    "axes = axes.flatten()\n",
    "for i, col in enumerate(numerical_cols):\n",
    "    sns.histplot(df_train[col].dropna(), bins=30, kde=True, ax=axes[i-1])\n",
    "    axes[i-1].set_title(f\"Distribution of {col}\")\n",
    "plt.tight_layout()\n",
    "plt.show()"
   ]
  },
  {
   "cell_type": "code",
   "execution_count": null,
   "metadata": {
    "cell_id": "98d360a4392b40a5ade18515cc0cbc9b",
    "deepnote_cell_type": "code",
    "execution_context_id": "805543aa-dc1a-4a8b-8319-d95a64e80cf0",
    "execution_millis": 0,
    "execution_start": 1740760589153,
    "source_hash": "ae1159fc"
   },
   "outputs": [],
   "source": [
    "# Checking skewness and kurtosis for numerical columns\n",
    "print(\"Skewness & Kurtosis for Numerical Features:\")\n",
    "for col in numerical_cols:\n",
    "    print(f\"{col}: Skewness = {skew(df_train[col].dropna()):.2f}, Kurtosis = {kurtosis(df_train[col].dropna()):.2f}\")"
   ]
  },
  {
   "cell_type": "code",
   "execution_count": null,
   "metadata": {
    "cell_id": "a4df5f409d4f4e99ba5171712688f0bd",
    "deepnote_cell_type": "code",
    "execution_context_id": "805543aa-dc1a-4a8b-8319-d95a64e80cf0",
    "execution_millis": 579,
    "execution_start": 1740760589229,
    "source_hash": "64e1dc81"
   },
   "outputs": [],
   "source": [
    "# Boxplots for detecting outliers\n",
    "fig, axes = plt.subplots(len(numerical_cols)//3, 3, figsize=(15, 5))\n",
    "axes = axes.flatten()\n",
    "for i, col in enumerate(numerical_cols):\n",
    "    sns.boxplot(y=df_train[col], ax=axes[i-1])\n",
    "    axes[i-1].set_title(f\"Boxplot of {col}\")\n",
    "plt.tight_layout()\n",
    "plt.show()"
   ]
  },
  {
   "cell_type": "markdown",
   "metadata": {
    "cell_id": "5a26ab8cd9dc44838b6c17ddbac0cb1a",
    "deepnote_cell_type": "text-cell-h2",
    "formattedRanges": []
   },
   "source": [
    "## Data preprocessing"
   ]
  },
  {
   "cell_type": "markdown",
   "metadata": {
    "cell_id": "01584e6a895f4acb889a68017a6c5ce8",
    "deepnote_cell_type": "text-cell-bullet",
    "formattedRanges": []
   },
   "source": [
    "- Engine volume: convert to numbers + dummy variable for turbo ones"
   ]
  },
  {
   "cell_type": "markdown",
   "metadata": {
    "cell_id": "2fa513017c124e7789c87ca7efb2285e",
    "deepnote_cell_type": "text-cell-bullet",
    "formattedRanges": []
   },
   "source": [
    "- Levy: convert to number"
   ]
  },
  {
   "cell_type": "markdown",
   "metadata": {
    "cell_id": "6f116dba1ac64ef599a5f7cacd8b3742",
    "deepnote_cell_type": "text-cell-bullet",
    "formattedRanges": []
   },
   "source": [
    "- Mileage: remove km to convert them in figures"
   ]
  },
  {
   "cell_type": "code",
   "execution_count": null,
   "metadata": {
    "cell_id": "4da317413225404a851aee152f3b8f5b",
    "deepnote_cell_type": "code",
    "execution_context_id": "805543aa-dc1a-4a8b-8319-d95a64e80cf0",
    "execution_millis": 1,
    "execution_start": 1740760589865,
    "source_hash": "e66d779c"
   },
   "outputs": [],
   "source": [
    "# EDA: Check for missing values\n",
    "print(df_train.isnull().sum())"
   ]
  },
  {
   "cell_type": "code",
   "execution_count": null,
   "metadata": {
    "cell_id": "ed3b7a7a665a496e89a969d6b433c732",
    "deepnote_cell_type": "code",
    "execution_context_id": "805543aa-dc1a-4a8b-8319-d95a64e80cf0",
    "execution_millis": 39,
    "execution_start": 1740760589925,
    "source_hash": "2b5a89d4"
   },
   "outputs": [],
   "source": [
    "def converting(df):\n",
    "    # Convert Levy to numeric (handling missing values)\n",
    "    df['Levy'] = pd.to_numeric(df['Levy'], errors='coerce').fillna(0)\n",
    "\n",
    "    # Convert Mileage to numeric (removing non-numeric characters)\n",
    "    df['Mileage'] = df['Mileage'].str.replace(r'\\D+', '', regex=True).astype(float)\n",
    "\n",
    "    # Create a dummy column for \"turbo\" (1 if \"turbo\" is present, else 0)\n",
    "    df['turbo'] = df['Engine volume'].str.contains('turbo', case=False, na=False).astype(int)\n",
    "    df['Engine volume'] = df['Engine volume'].str.extract(r'(\\d+)').astype(int)\n",
    "    return df\n",
    "\n",
    "df_train = converting(df_train)\n",
    "df_test = converting(df_test)"
   ]
  },
  {
   "cell_type": "markdown",
   "metadata": {
    "cell_id": "8a0cab057c6a405fba924a62142a43d2",
    "deepnote_cell_type": "text-cell-h3",
    "formattedRanges": []
   },
   "source": [
    "### Encoding"
   ]
  },
  {
   "cell_type": "code",
   "execution_count": null,
   "metadata": {
    "cell_id": "6e10a509555c48f5a9a19094628212cc",
    "deepnote_cell_type": "code",
    "execution_context_id": "805543aa-dc1a-4a8b-8319-d95a64e80cf0",
    "execution_millis": 0,
    "execution_start": 1740760590009,
    "source_hash": "41b5263b"
   },
   "outputs": [],
   "source": [
    "OHE_cols = ['Category', 'Fuel type', 'Gear box type', 'Drive wheels', 'Doors', 'Color'] \n",
    "Binary_cols = ['Leather interior', 'Wheel']\n",
    "Num_cols = [x for x in df_train.columns if x not in OHE_cols + Binary_cols]"
   ]
  },
  {
   "cell_type": "code",
   "execution_count": null,
   "metadata": {
    "cell_id": "f071c14ef2a7490badf53e815ec73177",
    "deepnote_cell_type": "code",
    "execution_context_id": "805543aa-dc1a-4a8b-8319-d95a64e80cf0",
    "execution_millis": 0,
    "execution_start": 1740760590053,
    "source_hash": "164e7360"
   },
   "outputs": [],
   "source": [
    "print(Num_cols)"
   ]
  },
  {
   "cell_type": "code",
   "execution_count": null,
   "metadata": {
    "cell_id": "4d57592175964f5bae0a46bf34fe9547",
    "deepnote_cell_type": "code",
    "execution_context_id": "805543aa-dc1a-4a8b-8319-d95a64e80cf0",
    "execution_millis": 0,
    "execution_start": 1740760590105,
    "source_hash": "78dbd24d"
   },
   "outputs": [],
   "source": [
    "Num_cols.remove('Model')\n",
    "Num_cols.remove('Manufacturer')\n",
    "Num_cols.remove('turbo')\n",
    "Num_cols.remove('ID')"
   ]
  },
  {
   "cell_type": "code",
   "execution_count": null,
   "metadata": {
    "cell_id": "01e276acd1fa4a91b7fa027fc98e2afc",
    "deepnote_cell_type": "code",
    "execution_context_id": "805543aa-dc1a-4a8b-8319-d95a64e80cf0",
    "execution_millis": 297,
    "execution_start": 1740760590153,
    "source_hash": "40d58f5b"
   },
   "outputs": [],
   "source": [
    "# Compute correlation matrix\n",
    "correlation_matrix = df_train[Num_cols].corr()\n",
    "np.fill_diagonal(correlation_matrix.values, np.nan)\n",
    "\n",
    "# Visualize with heatmap\n",
    "plt.figure(figsize=(10, 7))\n",
    "sns.heatmap(correlation_matrix, annot=True, cmap=\"coolwarm\")\n",
    "plt.title(\"Feature Correlation Matrix\")\n",
    "plt.show()\n"
   ]
  },
  {
   "cell_type": "markdown",
   "metadata": {
    "cell_id": "18686539fd3a46718f99afdaf53785df",
    "deepnote_cell_type": "text-cell-h2",
    "formattedRanges": []
   },
   "source": [
    "## Detecting Outliers"
   ]
  },
  {
   "cell_type": "code",
   "execution_count": null,
   "metadata": {
    "cell_id": "d042d69475a74a87b2f9daee913a376f",
    "deepnote_cell_type": "code",
    "execution_context_id": "805543aa-dc1a-4a8b-8319-d95a64e80cf0",
    "execution_millis": 1351,
    "execution_start": 1740760590527,
    "source_hash": "35ecbec6"
   },
   "outputs": [],
   "source": [
    "# Visualize outliers\n",
    "for col in Num_cols:\n",
    "    plt.figure(figsize=(5, 4))  \n",
    "    df_train[col].plot(kind='box', vert=True, title=f\"Boxplot of {col}\")  \n",
    "    plt.ylabel(col)\n",
    "    plt.show()"
   ]
  },
  {
   "cell_type": "code",
   "execution_count": null,
   "metadata": {
    "cell_id": "14bf5d56ae964c8094c6f313dc747d93",
    "deepnote_cell_type": "code",
    "execution_context_id": "805543aa-dc1a-4a8b-8319-d95a64e80cf0",
    "execution_millis": 0,
    "execution_start": 1740760591929,
    "source_hash": "b1fa1eed"
   },
   "outputs": [],
   "source": [
    "features = ['Levy', 'Price', 'Engine volume', 'Mileage']\n",
    "\n",
    "for feature in features:\n",
    "    top_10 = df_train[feature].nlargest(10)  # Get top 10 largest values\n",
    "    print(f\"Top 10 Maximum {feature}:\\n{top_10}\\n\")\n"
   ]
  },
  {
   "cell_type": "code",
   "execution_count": null,
   "metadata": {
    "cell_id": "35ca7681b5f84a5a96dc9c90396f015c",
    "deepnote_cell_type": "code",
    "execution_context_id": "805543aa-dc1a-4a8b-8319-d95a64e80cf0",
    "execution_millis": 0,
    "execution_start": 1740760591977,
    "source_hash": "745d73fd"
   },
   "outputs": [],
   "source": [
    "df_cleaned = df_train.copy()"
   ]
  },
  {
   "cell_type": "code",
   "execution_count": null,
   "metadata": {
    "cell_id": "30181494724949c8bbc344e9d06bb2d6",
    "deepnote_cell_type": "code",
    "execution_context_id": "805543aa-dc1a-4a8b-8319-d95a64e80cf0",
    "execution_millis": 0,
    "execution_start": 1740760592025,
    "source_hash": "c6d32a70"
   },
   "outputs": [],
   "source": [
    "Q1 = df_train['Mileage'].quantile(0.10)  # First quartile (15th percentile)\n",
    "Q3 = df_train['Mileage'].quantile(0.90)  # Third quartile (85th percentile)\n",
    "IQR = Q3 - Q1  # Interquartile range\n",
    "\n",
    "# Define bounds\n",
    "lower_bound = Q1 - 1.8 * IQR\n",
    "upper_bound = Q3 + 1.8 * IQR\n",
    "\n",
    "# Remove outliers\n",
    "df_cleaned = df_cleaned[df_cleaned['Mileage'] <= upper_bound]"
   ]
  },
  {
   "cell_type": "markdown",
   "metadata": {
    "cell_id": "3239df97b86f4062867c28402fe3af55",
    "deepnote_cell_type": "text-cell-h3",
    "formattedRanges": []
   },
   "source": [
    "### Remove top value of Levy , Price and engine volume "
   ]
  },
  {
   "cell_type": "code",
   "execution_count": null,
   "metadata": {
    "cell_id": "ba4738446f6d4bd9990b61a2e0c1b56f",
    "deepnote_cell_type": "code",
    "execution_context_id": "805543aa-dc1a-4a8b-8319-d95a64e80cf0",
    "execution_millis": 0,
    "execution_start": 1740760592073,
    "source_hash": "9caef9e1"
   },
   "outputs": [],
   "source": [
    "# Identify the max values for each feature\n",
    "max_price = df_train['Price'].max()\n",
    "max_engine_volume = df_train['Engine volume'].max()\n",
    "\n",
    "# Remove rows where:\n",
    "# - Levy is greater than 11,000\n",
    "# - Price is the maximum value\n",
    "# - Engine volume is the maximum value\n",
    "df_cleaned = df_cleaned[\n",
    "    (df_cleaned['Levy'] <= 11000) &  # Remove rows where Levy > 11,000\n",
    "    (df_cleaned['Price'] != max_price) & \n",
    "    (df_cleaned['Engine volume'] != max_engine_volume)\n",
    "]\n"
   ]
  },
  {
   "cell_type": "code",
   "execution_count": null,
   "metadata": {
    "cell_id": "3ef2edf10e314611a7ba3ad0c24a2aac",
    "deepnote_cell_type": "code",
    "execution_context_id": "805543aa-dc1a-4a8b-8319-d95a64e80cf0",
    "execution_millis": 1321,
    "execution_start": 1740760592117,
    "source_hash": "c3c328e2"
   },
   "outputs": [],
   "source": [
    "# Visualize outliers\n",
    "for col in Num_cols:\n",
    "    plt.figure(figsize=(5, 4))  \n",
    "    df_cleaned[col].plot(kind='box', vert=True, title=f\"Boxplot of {col}\")  \n",
    "    plt.ylabel(col)\n",
    "    plt.show()"
   ]
  },
  {
   "cell_type": "code",
   "execution_count": null,
   "metadata": {
    "cell_id": "f9e512b86aff4fc5b5b734ac240b1f8c",
    "deepnote_cell_type": "code",
    "execution_context_id": "805543aa-dc1a-4a8b-8319-d95a64e80cf0",
    "execution_millis": 0,
    "execution_start": 1740760593485,
    "source_hash": "2699409d"
   },
   "outputs": [],
   "source": [
    "df_train_OLD = df_train\n",
    "df_train = df_cleaned"
   ]
  },
  {
   "cell_type": "markdown",
   "metadata": {
    "cell_id": "cd48df64a4e14e9c8e534593d04c342e",
    "deepnote_cell_type": "text-cell-h2",
    "formattedRanges": []
   },
   "source": [
    "## Categorical to Dummies"
   ]
  },
  {
   "cell_type": "code",
   "execution_count": null,
   "metadata": {
    "cell_id": "9613df19083e42bc81d0c44a87a30e42",
    "deepnote_cell_type": "code",
    "execution_context_id": "805543aa-dc1a-4a8b-8319-d95a64e80cf0",
    "execution_millis": 0,
    "execution_start": 1740760593537,
    "source_hash": "946768a6"
   },
   "outputs": [],
   "source": [
    "def enc(df):\n",
    "    encoder = OneHotEncoder(sparse=False) \n",
    "\n",
    "    # Fit and transform the selected columns\n",
    "    encoded_array = encoder.fit_transform(df[OHE_cols])\n",
    "\n",
    "    # Convert to DataFrame and retain column names\n",
    "    encoded_df = pd.DataFrame(encoded_array, columns=encoder.get_feature_names_out(OHE_cols))\n",
    "\n",
    "    # Drop original categorical columns and concatenate the new encoded columns\n",
    "    df = df.drop(OHE_cols, axis=1).reset_index(drop=True)\n",
    "    df = pd.concat([df, encoded_df], axis=1)\n",
    "\n",
    "    encoder = OneHotEncoder(sparse=False,drop='if_binary')\n",
    "\n",
    "    # Fit and transform the selected columns\n",
    "    encoded_array = encoder.fit_transform(df[Binary_cols])\n",
    "\n",
    "    # Convert to DataFrame and retain column names\n",
    "    encoded_df = pd.DataFrame(encoded_array, columns=encoder.get_feature_names_out(Binary_cols))\n",
    "\n",
    "    # Drop original categorical columns and concatenate the new encoded columns\n",
    "    df = df.drop(Binary_cols, axis=1).reset_index(drop=True)\n",
    "    df = pd.concat([df, encoded_df], axis=1)\n",
    "\n",
    "    return df"
   ]
  },
  {
   "cell_type": "code",
   "execution_count": null,
   "metadata": {
    "cell_id": "c987901a993e4f3d88f77780c8c6d963",
    "deepnote_cell_type": "code",
    "execution_context_id": "805543aa-dc1a-4a8b-8319-d95a64e80cf0",
    "execution_millis": 0,
    "execution_start": 1740760593589,
    "source_hash": "ab66f9fd"
   },
   "outputs": [],
   "source": [
    "def Manu(df,percentage):\n",
    "    manufacturer_percentage = df['Manufacturer'].value_counts(normalize=True).mul(100).round(2)\n",
    "\n",
    "    # First, sort the manufacturer percentages in descending order\n",
    "    sorted_manufacturers = manufacturer_percentage.sort_values(ascending=False)\n",
    "\n",
    "    # Compute cumulative sum of these percentages\n",
    "    cumulative = sorted_manufacturers.cumsum()\n",
    "\n",
    "    # Select manufacturers that together account for up to 90% of the data\n",
    "    manufacturers_90 = sorted_manufacturers[cumulative <= percentage]\n",
    "\n",
    "    manufacturers = pd.concat([manufacturers_90, pd.Series({'Other': 100-manufacturers_90.sum()})], axis=0)\n",
    "\n",
    "    # Replace manufacturers not in the top 90% with 'Other'\n",
    "    df['Manufacturer'] = df['Manufacturer'].apply(lambda x: x if x in manufacturers_90.index else 'Other')\n",
    "\n",
    "    # Create dummy variables (1 for presence, 0 for absence)\n",
    "    manufacturer_dummies = pd.get_dummies(df['Manufacturer'], prefix='Manufacturer').astype(int)\n",
    "\n",
    "    # Concatenate the dummy variables with the original dataset\n",
    "    df = pd.concat([df, manufacturer_dummies], axis=1)\n",
    "\n",
    "    # Drop the original 'Manufacturer' column (optional)\n",
    "    df.drop(columns=['Manufacturer'], inplace=True)\n",
    "\n",
    "    return df"
   ]
  },
  {
   "cell_type": "markdown",
   "metadata": {
    "cell_id": "5523a9f4d41244289faca0bad619d138",
    "deepnote_app_block_visible": false,
    "deepnote_cell_type": "text-cell-h3",
    "formattedRanges": [],
    "is_collapsed": false
   },
   "source": [
    "### Manufacteur % - Top 13 account for 90%"
   ]
  },
  {
   "cell_type": "code",
   "execution_count": null,
   "metadata": {
    "cell_id": "52308347ffae47109b233ca7c5e521c3",
    "deepnote_cell_type": "code",
    "execution_context_id": "805543aa-dc1a-4a8b-8319-d95a64e80cf0",
    "execution_millis": 80,
    "execution_start": 1740760593637,
    "source_hash": "3ff94a21"
   },
   "outputs": [],
   "source": [
    "df_train = enc(df_train)\n",
    "df_train = Manu(df_train,90)\n",
    "\n",
    "df_test = enc(df_test)\n",
    "df_test = Manu(df_test,90)"
   ]
  },
  {
   "cell_type": "markdown",
   "metadata": {
    "cell_id": "185401d829874bb79129f4a68275dbf0",
    "deepnote_cell_type": "text-cell-h2",
    "formattedRanges": []
   },
   "source": [
    "## Converted top 90% of manumanufacturers to dummy variables "
   ]
  },
  {
   "cell_type": "code",
   "execution_count": null,
   "metadata": {
    "cell_id": "b65db332441743a1b306a8af18d667d6",
    "deepnote_cell_type": "code",
    "execution_context_id": "805543aa-dc1a-4a8b-8319-d95a64e80cf0",
    "execution_millis": 15,
    "execution_start": 1740760593836,
    "source_hash": "5e2a9c26"
   },
   "outputs": [],
   "source": [
    "df_train.head()"
   ]
  },
  {
   "cell_type": "code",
   "execution_count": null,
   "metadata": {
    "cell_id": "6c01342a3cdf4203b3735ad4be622f94",
    "deepnote_cell_type": "code",
    "execution_context_id": "805543aa-dc1a-4a8b-8319-d95a64e80cf0",
    "execution_millis": 47,
    "execution_start": 1740760593923,
    "source_hash": "f6325a18"
   },
   "outputs": [],
   "source": [
    "df_test.head()"
   ]
  },
  {
   "cell_type": "markdown",
   "metadata": {
    "cell_id": "5f6363d3bea546deb20df7964b6e36f2",
    "deepnote_cell_type": "text-cell-h2",
    "formattedRanges": []
   },
   "source": [
    "## Drop model column as there is too many unique models to account for "
   ]
  },
  {
   "cell_type": "code",
   "execution_count": null,
   "metadata": {
    "cell_id": "319cf26b661c462f89a29adaf5be6ef3",
    "deepnote_cell_type": "code",
    "execution_context_id": "805543aa-dc1a-4a8b-8319-d95a64e80cf0",
    "execution_millis": 0,
    "execution_start": 1740760594017,
    "source_hash": "40871a1f"
   },
   "outputs": [],
   "source": [
    "df_train = df_train.drop(columns=['Model'])\n",
    "df_train = df_train.drop(columns=['ID'])\n",
    "\n",
    "df_test = df_test.drop(columns=['Model'])\n",
    "df_test = df_test.drop(columns=['ID'])"
   ]
  },
  {
   "cell_type": "code",
   "execution_count": null,
   "metadata": {
    "cell_id": "83d9c8eb65804bd589ba2b6ed950dab9",
    "deepnote_cell_type": "code",
    "execution_context_id": "805543aa-dc1a-4a8b-8319-d95a64e80cf0",
    "execution_millis": 23,
    "execution_start": 1740760594081,
    "source_hash": "5e2a9c26"
   },
   "outputs": [],
   "source": [
    "df_train.head()"
   ]
  },
  {
   "cell_type": "markdown",
   "metadata": {
    "cell_id": "27b752e63c0446ffa4439c17365e7ad0",
    "deepnote_cell_type": "text-cell-h1",
    "formattedRanges": []
   },
   "source": [
    "# Baseline Model "
   ]
  },
  {
   "cell_type": "code",
   "execution_count": null,
   "metadata": {
    "cell_id": "ae62894adbec4000b78fcf9076fc0f1c",
    "deepnote_cell_type": "code",
    "execution_context_id": "805543aa-dc1a-4a8b-8319-d95a64e80cf0",
    "execution_millis": 0,
    "execution_start": 1740760594145,
    "source_hash": "ca07bd1e"
   },
   "outputs": [],
   "source": [
    "df_draft = df_train[['Mileage', 'Price']]\n",
    "df_draft = df_draft.sort_values(by='Mileage', ascending=True)"
   ]
  },
  {
   "cell_type": "code",
   "execution_count": null,
   "metadata": {
    "cell_id": "1dc0ab6b5b2e4ad3a7e8b4bf8615acc4",
    "deepnote_cell_type": "code",
    "execution_context_id": "805543aa-dc1a-4a8b-8319-d95a64e80cf0",
    "execution_millis": 158,
    "execution_start": 1740760594201,
    "source_hash": "bfb2b530"
   },
   "outputs": [],
   "source": [
    "plt.plot(df_draft['Mileage'], df_draft['Price'])\n",
    "plt.xlabel('Mileage')\n",
    "plt.ylabel('Price')\n",
    "plt.show()"
   ]
  },
  {
   "cell_type": "code",
   "execution_count": null,
   "metadata": {
    "cell_id": "705eba9781d240b1b8c7fdb7475cd05f",
    "deepnote_cell_type": "code",
    "execution_context_id": "805543aa-dc1a-4a8b-8319-d95a64e80cf0",
    "execution_millis": 814,
    "execution_start": 1740760594409,
    "source_hash": "ee81593a"
   },
   "outputs": [],
   "source": [
    "# Define features (X) and target (y)\n",
    "log_mil = np.log(df_train['Mileage']+1)\n",
    "X = df_train.drop(columns=[\"Price\"])\n",
    "X[\"Mileage\"] = log_mil\n",
    "y = df_train[\"Price\"]\n",
    "\n",
    "# Split data into training and test sets (80-20 split)\n",
    "X_train, X_test, y_train, y_test = train_test_split(X, y, test_size=0.2, random_state=42)\n",
    "\n",
    "# Scale the features using StandardScaler\n",
    "scaler = StandardScaler()\n",
    "X_train_scaled = scaler.fit_transform(X_train) \n",
    "X_test_scaled = scaler.transform(X_test)  \n",
    "\n",
    "# Train a Linear Regression model\n",
    "model = LinearRegression()\n",
    "model.fit(X_train_scaled, y_train)\n",
    "\n",
    "# Make predictions\n",
    "y_pred = model.predict(X_test_scaled)\n",
    "\n",
    "# Evaluate the model\n",
    "mse = mean_squared_error(y_test, y_pred)\n",
    "r2 = r2_score(y_test, y_pred)\n",
    "\n",
    "# Print results\n",
    "print(f\"Mean Squared Error (MSE): {mse}\")\n",
    "print(f\"R² Score: {r2}\")\n"
   ]
  },
  {
   "cell_type": "markdown",
   "metadata": {
    "cell_id": "0a740098c92c46b89a4a56456692806e",
    "deepnote_cell_type": "text-cell-h1",
    "formattedRanges": []
   },
   "source": [
    "# Experiment with different ML models and compare "
   ]
  },
  {
   "cell_type": "code",
   "execution_count": null,
   "metadata": {
    "cell_id": "efcd0758ce6e474496eba5a3a2ec3552",
    "deepnote_cell_type": "code",
    "execution_context_id": "805543aa-dc1a-4a8b-8319-d95a64e80cf0",
    "execution_millis": 3797,
    "execution_start": 1740761423857,
    "source_hash": "e36cd347"
   },
   "outputs": [],
   "source": [
    "# Define features (X) and target (y)\n",
    "log_mil = np.log(df_train['Mileage']+1)\n",
    "X = df_train.drop(columns=[\"Price\"])\n",
    "X[\"Mileage\"] = log_mil\n",
    "y = df_train[\"Price\"]\n",
    "\n",
    "# Split data into training and test sets (80-20 split)\n",
    "X_train, X_test, y_train, y_test = train_test_split(X, y, test_size=0.2, random_state=42)\n",
    "\n",
    "# Scale the features using StandardScaler\n",
    "scaler = StandardScaler()\n",
    "X_train_scaled = scaler.fit_transform(X_train) \n",
    "X_test_scaled = scaler.transform(X_test)  \n",
    "\n",
    "# Define models\n",
    "models = {\n",
    "    \"Linear Regression\": LinearRegression(),\n",
    "    \"Ridge Regression\": Ridge(alpha=1.0),\n",
    "    \"Decision Tree\": DecisionTreeRegressor(random_state=42, max_depth=5),\n",
    "    \"Random Forest\": RandomForestRegressor(n_estimators=50, random_state=42, max_depth=5),\n",
    "    \"Gradient Boosting\": GradientBoostingRegressor(n_estimators=50, random_state=42, max_depth=5),\n",
    "}\n",
    "\n",
    "# Store results\n",
    "results = []\n",
    "\n",
    "# Train and evaluate each model\n",
    "for name, model in models.items():\n",
    "    # Train model\n",
    "    model.fit(X_train_scaled, y_train)\n",
    "    \n",
    "    # Make predictions\n",
    "    y_pred = model.predict(X_test_scaled)\n",
    "    \n",
    "    # Evaluate\n",
    "    mse = mean_squared_error(y_test, y_pred)\n",
    "    r2 = r2_score(y_test, y_pred)\n",
    "    rmse = mean_squared_error(y_test, y_pred, squared=False)  \n",
    "\n",
    "    \n",
    "    # Store results\n",
    "    results.append({\"Model\": name, \"MSE\": mse, \"R² Score\": r2, \"RMSE\": rmse})\n",
    "\n",
    "# Convert results to DataFrame and print\n",
    "results_df = pd.DataFrame(results)\n",
    "print(results_df)\n"
   ]
  },
  {
   "cell_type": "code",
   "execution_count": null,
   "metadata": {
    "cell_id": "aa15b79fe78648769e0eb62a048dc52e",
    "deepnote_cell_type": "code",
    "execution_context_id": "805543aa-dc1a-4a8b-8319-d95a64e80cf0",
    "execution_millis": 238704,
    "execution_start": 1740761796649,
    "source_hash": "d6765585"
   },
   "outputs": [],
   "source": [
    "# Define features (X) and target (y)\n",
    "log_mil = np.log(df_train['Mileage']+1)\n",
    "X = df_train.drop(columns=[\"Price\"])\n",
    "X[\"Mileage\"] = log_mil\n",
    "y = df_train[\"Price\"]\n",
    "\n",
    "# Split data into training and test sets (80-20 split)\n",
    "X_train, X_test, y_train, y_test = train_test_split(X, y, test_size=0.2, random_state=42)\n",
    "\n",
    "# Scale the features using StandardScaler\n",
    "scaler = StandardScaler()\n",
    "X_train_scaled = scaler.fit_transform(X_train) \n",
    "X_test_scaled = scaler.transform(X_test)  \n",
    "\n",
    "# Define parameter grid for Gradient Boosting\n",
    "param_grid = {\n",
    "    \"n_estimators\": [50, 100, 200],\n",
    "    \"max_depth\": [3, 5, 7],\n",
    "    \"learning_rate\": [0.01, 0.1, 0.2]\n",
    "}\n",
    "\n",
    "# Reduce CV folds if dataset is small\n",
    "cv_splits = min(3, len(y_train))\n",
    "\n",
    "# Initialize GridSearchCV\n",
    "grid_search = GridSearchCV(\n",
    "    estimator=GradientBoostingRegressor(random_state=42),\n",
    "    param_grid=param_grid,\n",
    "    scoring=\"neg_mean_squared_error\",\n",
    "    cv=cv_splits,  \n",
    "    n_jobs=-1\n",
    ")\n",
    "\n",
    "# Perform GridSearchCV\n",
    "grid_search.fit(X_train_scaled, y_train)\n",
    "\n",
    "# Get best parameters and best model\n",
    "best_params = grid_search.best_params_\n",
    "best_model = grid_search.best_estimator_\n",
    "\n",
    "# Evaluate the best model on test data\n",
    "y_pred_best = best_model.predict(X_test_scaled)\n",
    "best_mse = mean_squared_error(y_test, y_pred_best)\n",
    "best_r2 = r2_score(y_test, y_pred_best)\n",
    "best_rmse = best_mse ** 0.5\n",
    "\n",
    "# Print results\n",
    "print(\"Best Hyperparameters:\", best_params)\n",
    "print(f\"Best Model MSE: {best_mse}\")\n",
    "print(f\"Best Model RMSE: {best_rmse}\")\n",
    "print(f\"Best Model R² Score: {best_r2}\")\n"
   ]
  },
  {
   "cell_type": "markdown",
   "metadata": {
    "cell_id": "9a089200831742f9bd633c40c24d1faa",
    "deepnote_cell_type": "text-cell-h2",
    "formattedRanges": []
   },
   "source": [
    "## Hyperparmater Tuning - Grid Seach "
   ]
  },
  {
   "cell_type": "code",
   "execution_count": null,
   "metadata": {
    "cell_id": "7cafac292edd4114983ffc528532da6d",
    "deepnote_cell_type": "code",
    "execution_context_id": "805543aa-dc1a-4a8b-8319-d95a64e80cf0",
    "execution_millis": 281,
    "execution_start": 1740762399462,
    "source_hash": "5f922f6e"
   },
   "outputs": [],
   "source": [
    "# Print Best Hyperparameters\n",
    "print(\"Best Hyperparameters:\", best_params)\n",
    "\n",
    "# Evaluate Best Model on Test Data\n",
    "y_pred_best = best_model.predict(X_test_scaled)\n",
    "best_mse = mean_squared_error(y_test, y_pred_best)\n",
    "best_r2 = r2_score(y_test, y_pred_best)\n",
    "best_rmse = np.sqrt(best_mse)\n",
    "\n",
    "# Print Performance Metrics\n",
    "print(f\"Best Model MSE: {best_mse}\")\n",
    "print(f\"Best Model RMSE: {best_rmse}\")\n",
    "print(f\"Best Model R² Score: {best_r2}\")\n",
    "\n",
    "# Get feature importances\n",
    "feature_importance = best_model.feature_importances_\n",
    "features = X.columns  \n",
    "\n",
    "# Sort Feature Importances \n",
    "sorted_idx = np.argsort(feature_importance)[-20:]  \n",
    "\n",
    "# Plot Top 20 Feature Importances\n",
    "plt.figure(figsize=(10, 6))\n",
    "plt.barh(range(20), feature_importance[sorted_idx], align=\"center\")\n",
    "plt.yticks(range(20), [features[i] for i in sorted_idx])\n",
    "plt.xlabel(\"Feature Importance\")\n",
    "plt.ylabel(\"Features\")\n",
    "plt.title(\"Top 20 Feature Importance in Gradient Boosting Model\")\n",
    "plt.show()\n",
    "\n"
   ]
  },
  {
   "cell_type": "markdown",
   "metadata": {
    "cell_id": "fb85c0ed11ae48d885f9c4c1022a8601",
    "deepnote_cell_type": "text-cell-h2",
    "formattedRanges": []
   },
   "source": [
    "## Model Saving "
   ]
  },
  {
   "cell_type": "code",
   "execution_count": null,
   "metadata": {
    "cell_id": "7acaeea2abe649f38ad6d8371243257d",
    "deepnote_cell_type": "code",
    "execution_context_id": "805543aa-dc1a-4a8b-8319-d95a64e80cf0",
    "execution_millis": 528,
    "execution_start": 1740763162036,
    "source_hash": "9059edb6"
   },
   "outputs": [],
   "source": [
    "# Define the filename to save the model\n",
    "model_filename = \"best_gradient_boosting_model.pkl\"\n",
    "\n",
    "# Save the model using pickle\n",
    "with open(model_filename, 'wb') as file:\n",
    "    pickle.dump(best_model, file)\n",
    "\n",
    "print(f\"Model saved successfully as {model_filename}\")\n"
   ]
  },
  {
   "cell_type": "markdown",
   "metadata": {
    "created_in_deepnote_cell": true,
    "deepnote_cell_type": "markdown"
   },
   "source": [
    "<a style='text-decoration:none;line-height:16px;display:flex;color:#5B5B62;padding:10px;justify-content:end;' href='https://deepnote.com?utm_source=created-in-deepnote-cell&projectId=1a77229b-6e4b-484a-822b-79f4c1fa6299' target=\"_blank\">\n",
    "<img alt='Created in deepnote.com' style='display:inline;max-height:16px;margin:0px;margin-right:7.5px;' src='data:image/svg+xml;base64,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' > </img>\n",
    "Created in <span style='font-weight:600;margin-left:4px;'>Deepnote</span></a>"
   ]
  }
 ],
 "metadata": {
  "deepnote_notebook_id": "93eda8a1436d42c288391dcbbafc12c3",
  "deepnote_persisted_session": {
   "createdAt": "2025-02-28T16:14:28.103Z"
  },
  "kernelspec": {
   "display_name": "base",
   "language": "python",
   "name": "python3"
  },
  "language_info": {
   "codemirror_mode": {
    "name": "ipython",
    "version": 3
   },
   "file_extension": ".py",
   "mimetype": "text/x-python",
   "name": "python",
   "nbconvert_exporter": "python",
   "pygments_lexer": "ipython3",
   "version": "3.12.8"
  }
 },
 "nbformat": 4,
 "nbformat_minor": 0
}
